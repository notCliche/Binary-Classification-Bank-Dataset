{
 "cells": [
  {
   "cell_type": "code",
   "execution_count": 1,
   "id": "e6d5f5ab",
   "metadata": {
    "_cell_guid": "b1076dfc-b9ad-4769-8c92-a6c4dae69d19",
    "_uuid": "8f2839f25d086af736a60e9eeb907d3b93b6e0e5",
    "execution": {
     "iopub.execute_input": "2025-08-29T14:22:06.249015Z",
     "iopub.status.busy": "2025-08-29T14:22:06.248665Z",
     "iopub.status.idle": "2025-08-29T14:22:11.182391Z",
     "shell.execute_reply": "2025-08-29T14:22:11.180779Z"
    },
    "papermill": {
     "duration": 4.939614,
     "end_time": "2025-08-29T14:22:11.184171",
     "exception": false,
     "start_time": "2025-08-29T14:22:06.244557",
     "status": "completed"
    },
    "tags": []
   },
   "outputs": [
    {
     "name": "stdout",
     "output_type": "stream",
     "text": [
      "/kaggle/input/playground-series-s5e8/sample_submission.csv\n",
      "/kaggle/input/playground-series-s5e8/train.csv\n",
      "/kaggle/input/playground-series-s5e8/test.csv\n"
     ]
    }
   ],
   "source": [
    "# This Python 3 environment comes with many helpful analytics libraries installed\n",
    "# It is defined by the kaggle/python Docker image: https://github.com/kaggle/docker-python\n",
    "# For example, here's several helpful packages to load\n",
    "\n",
    "import numpy as np # linear algebra\n",
    "import pandas as pd # data processing, CSV file I/O (e.g. pd.read_csv)\n",
    "from sklearn.model_selection import train_test_split\n",
    "from sklearn.ensemble import RandomForestClassifier\n",
    "from sklearn.metrics import roc_auc_score\n",
    "from sklearn.preprocessing import LabelEncoder\n",
    "\n",
    "# Input data files are available in the read-only \"../input/\" directory\n",
    "# For example, running this (by clicking run or pressing Shift+Enter) will list all files under the input directory\n",
    "\n",
    "import os\n",
    "for dirname, _, filenames in os.walk('/kaggle/input'):\n",
    "    for filename in filenames:\n",
    "        print(os.path.join(dirname, filename))\n",
    "\n",
    "# You can write up to 20GB to the current directory (/kaggle/working/) that gets preserved as output when you create a version using \"Save & Run All\" \n",
    "# You can also write temporary files to /kaggle/temp/, but they won't be saved outside of the current session"
   ]
  },
  {
   "cell_type": "code",
   "execution_count": 2,
   "id": "e2fb8e0b",
   "metadata": {
    "execution": {
     "iopub.execute_input": "2025-08-29T14:22:11.190674Z",
     "iopub.status.busy": "2025-08-29T14:22:11.190198Z",
     "iopub.status.idle": "2025-08-29T14:22:14.828109Z",
     "shell.execute_reply": "2025-08-29T14:22:14.827032Z"
    },
    "papermill": {
     "duration": 3.643015,
     "end_time": "2025-08-29T14:22:14.830068",
     "exception": false,
     "start_time": "2025-08-29T14:22:11.187053",
     "status": "completed"
    },
    "tags": []
   },
   "outputs": [],
   "source": [
    "# Load the datasets\n",
    "try:\n",
    "    train_df = pd.read_csv('/kaggle/input/playground-series-s5e8/train.csv')\n",
    "    test_df = pd.read_csv('/kaggle/input/playground-series-s5e8/test.csv')\n",
    "    sample_submission_df = pd.read_csv('/kaggle/input/playground-series-s5e8/sample_submission.csv')\n",
    "except FileNotFoundError as e:\n",
    "    print(f\"Error loading data files: {e}\")\n",
    "    print(\"Please make sure train.csv, test.csv, and sample_submission.csv are in the same directory.\")\n",
    "    exit()"
   ]
  },
  {
   "cell_type": "code",
   "execution_count": 3,
   "id": "9385e65d",
   "metadata": {
    "execution": {
     "iopub.execute_input": "2025-08-29T14:22:14.836380Z",
     "iopub.status.busy": "2025-08-29T14:22:14.836006Z",
     "iopub.status.idle": "2025-08-29T14:22:16.026094Z",
     "shell.execute_reply": "2025-08-29T14:22:16.024547Z"
    },
    "papermill": {
     "duration": 1.19585,
     "end_time": "2025-08-29T14:22:16.028308",
     "exception": false,
     "start_time": "2025-08-29T14:22:14.832458",
     "status": "completed"
    },
    "tags": []
   },
   "outputs": [],
   "source": [
    "# --- Preprocessing ---\n",
    "\n",
    "# Function to preprocess the data\n",
    "def preprocess(df):\n",
    "    # Separate categorical and numerical features\n",
    "    categorical_features = df.select_dtypes(include=['object']).columns\n",
    "    numerical_features = df.select_dtypes(include=['int64', 'float64']).columns\n",
    "\n",
    "    # Convert categorical features to numerical using one-hot encoding\n",
    "    df = pd.get_dummies(df, columns=categorical_features, drop_first=True)\n",
    "    return df\n",
    "\n",
    "# Store test IDs for submission\n",
    "test_ids = test_df['id']\n",
    "\n",
    "# Preprocess the training and testing data\n",
    "# Drop 'id' from training data as it's not a feature\n",
    "train_df = train_df.drop('id', axis=1)\n",
    "test_df = test_df.drop('id', axis=1)\n",
    "\n",
    "# Align columns before training - crucial for consistent features\n",
    "y = train_df['y']\n",
    "X = train_df.drop('y', axis=1)\n",
    "\n",
    "# Apply preprocessing\n",
    "X_processed = preprocess(X)\n",
    "test_processed = preprocess(test_df)\n",
    "\n",
    "# Align columns - crucial for consistent features between train and test sets\n",
    "train_cols = X_processed.columns\n",
    "test_cols = test_processed.columns\n",
    "\n",
    "missing_in_test = set(train_cols) - set(test_cols)\n",
    "for c in missing_in_test:\n",
    "    test_processed[c] = 0\n",
    "\n",
    "missing_in_train = set(test_cols) - set(train_cols)\n",
    "for c in missing_in_train:\n",
    "    X_processed[c] = 0\n",
    "\n",
    "# Ensure the order of columns is the same\n",
    "test_processed = test_processed[train_cols]"
   ]
  },
  {
   "cell_type": "code",
   "execution_count": 4,
   "id": "0b9c6e18",
   "metadata": {
    "execution": {
     "iopub.execute_input": "2025-08-29T14:22:16.034399Z",
     "iopub.status.busy": "2025-08-29T14:22:16.034050Z",
     "iopub.status.idle": "2025-08-29T14:23:45.265609Z",
     "shell.execute_reply": "2025-08-29T14:23:45.264589Z"
    },
    "papermill": {
     "duration": 89.238617,
     "end_time": "2025-08-29T14:23:45.269265",
     "exception": false,
     "start_time": "2025-08-29T14:22:16.030648",
     "status": "completed"
    },
    "tags": []
   },
   "outputs": [
    {
     "name": "stdout",
     "output_type": "stream",
     "text": [
      "Training the model...\n",
      "Model training complete.\n"
     ]
    }
   ],
   "source": [
    "# --- Model Training ---\n",
    "\n",
    "# Using RandomForestClassifier as suggested in the notebook\n",
    "# The parameters are chosen based on common practices and can be tuned further\n",
    "model = RandomForestClassifier(n_estimators=200, random_state=42, n_jobs=-1, max_depth=10, min_samples_leaf=5)\n",
    "\n",
    "print(\"Training the model...\")\n",
    "model.fit(X_processed, y)\n",
    "print(\"Model training complete.\")"
   ]
  },
  {
   "cell_type": "code",
   "execution_count": 5,
   "id": "f533db68",
   "metadata": {
    "execution": {
     "iopub.execute_input": "2025-08-29T14:23:45.274765Z",
     "iopub.status.busy": "2025-08-29T14:23:45.274464Z",
     "iopub.status.idle": "2025-08-29T14:23:47.727787Z",
     "shell.execute_reply": "2025-08-29T14:23:47.726669Z"
    },
    "papermill": {
     "duration": 2.45793,
     "end_time": "2025-08-29T14:23:47.729404",
     "exception": false,
     "start_time": "2025-08-29T14:23:45.271474",
     "status": "completed"
    },
    "tags": []
   },
   "outputs": [
    {
     "name": "stdout",
     "output_type": "stream",
     "text": [
      "Making predictions on the test set...\n",
      "Prediction complete.\n"
     ]
    }
   ],
   "source": [
    "# --- Prediction ---\n",
    "\n",
    "print(\"Making predictions on the test set...\")\n",
    "predictions = model.predict_proba(test_processed)[:, 1]\n",
    "print(\"Prediction complete.\")"
   ]
  },
  {
   "cell_type": "code",
   "execution_count": 6,
   "id": "1832203d",
   "metadata": {
    "execution": {
     "iopub.execute_input": "2025-08-29T14:23:47.735708Z",
     "iopub.status.busy": "2025-08-29T14:23:47.735341Z",
     "iopub.status.idle": "2025-08-29T14:23:48.365510Z",
     "shell.execute_reply": "2025-08-29T14:23:48.364343Z"
    },
    "papermill": {
     "duration": 0.635571,
     "end_time": "2025-08-29T14:23:48.367459",
     "exception": false,
     "start_time": "2025-08-29T14:23:47.731888",
     "status": "completed"
    },
    "tags": []
   },
   "outputs": [
    {
     "name": "stdout",
     "output_type": "stream",
     "text": [
      "\n",
      "Submission file 'submission.csv' has been created successfully!\n",
      "First 5 rows of the submission file:\n",
      "       id         y\n",
      "0  750000  0.034769\n",
      "1  750001  0.128053\n",
      "2  750002  0.017558\n",
      "3  750003  0.005773\n",
      "4  750004  0.089566\n"
     ]
    }
   ],
   "source": [
    "# --- Submission File Generation ---\n",
    "\n",
    "submission_df = pd.DataFrame({'id': test_ids, 'y': predictions})\n",
    "submission_df.to_csv('submission.csv', index=False)\n",
    "\n",
    "print(\"\\nSubmission file 'submission.csv' has been created successfully!\")\n",
    "print(\"First 5 rows of the submission file:\")\n",
    "print(submission_df.head())"
   ]
  }
 ],
 "metadata": {
  "kaggle": {
   "accelerator": "none",
   "dataSources": [
    {
     "databundleVersionId": 12937777,
     "sourceId": 91719,
     "sourceType": "competition"
    }
   ],
   "dockerImageVersionId": 31089,
   "isGpuEnabled": false,
   "isInternetEnabled": false,
   "language": "python",
   "sourceType": "notebook"
  },
  "kernelspec": {
   "display_name": "Python 3",
   "language": "python",
   "name": "python3"
  },
  "language_info": {
   "codemirror_mode": {
    "name": "ipython",
    "version": 3
   },
   "file_extension": ".py",
   "mimetype": "text/x-python",
   "name": "python",
   "nbconvert_exporter": "python",
   "pygments_lexer": "ipython3",
   "version": "3.11.13"
  },
  "papermill": {
   "default_parameters": {},
   "duration": 109.323308,
   "end_time": "2025-08-29T14:23:49.193909",
   "environment_variables": {},
   "exception": null,
   "input_path": "__notebook__.ipynb",
   "output_path": "__notebook__.ipynb",
   "parameters": {},
   "start_time": "2025-08-29T14:21:59.870601",
   "version": "2.6.0"
  }
 },
 "nbformat": 4,
 "nbformat_minor": 5
}
